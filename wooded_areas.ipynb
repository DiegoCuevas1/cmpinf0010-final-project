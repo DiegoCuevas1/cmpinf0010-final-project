{
 "cells": [
  {
   "cell_type": "markdown",
   "metadata": {},
   "source": [
    "# Final Project\n",
    "Diego Cuevas\\\n",
    "Wooded Areas Notebook\n",
    "\n",
    "To establish the best neighborhood to ghost hunt, I decided to find the neighborhood with the most wooded areas. Typically, most ghost stories occur in old houses or abandoned places. But there can be the occasional haunted story in a forest. "
   ]
  },
  {
   "cell_type": "code",
   "execution_count": 4,
   "metadata": {},
   "outputs": [],
   "source": [
    "import fpsnippets\n",
    "import geopandas\n",
    "import pandas as pd\n",
    "import matplotlib.pyplot as plt\n",
    "\n",
    "NEIGHBORHOODS = geopandas.read_file(\"https://data.wprdc.org/dataset/e672f13d-71c4-4a66-8f38-710e75ed80a4/resource/c5a93a8e-03d7-4eb3-91a8-c6b7db0fa261/download/pittsburghpaneighborhoods-.zip\")\n",
    "wooded_areas = geopandas.read_file(\"https://data.wprdc.org/dataset/8d3104f6-a1dc-46b0-a2bc-9715af02f543/resource/7d60eaf8-c7b8-491d-96cf-671ae3a3b27d/download/alcogisallegheny-county-wooded-area-boundaries.zip\")\n"
   ]
  },
  {
   "cell_type": "markdown",
   "metadata": {},
   "source": [
    "The first thing I did was read the shapefiles of the neighborhoods and wooded areas of Pittsburgh."
   ]
  },
  {
   "cell_type": "code",
   "execution_count": 5,
   "metadata": {},
   "outputs": [],
   "source": [
    "\n",
    "# print(wooded_areas.columns)                         \n",
    "def wood_to_neighborhoods():\n",
    "    wood_neighborhoods = {}\n",
    "    for _idx, wooded in wooded_areas.iterrows():\n",
    "        wood_point = wooded[\"geometry\"]\n",
    "        neighborhood_list = []\n",
    "        for idx, neighborhood in NEIGHBORHOODS.iterrows():\n",
    "            if neighborhood[\"geometry\"].contains(wood_point):\n",
    "                neighborhood_list.append(neighborhood[\"hood\"])\n",
    "        wood_neighborhoods[wooded[\"WOODLAND_\"]] = neighborhood_list\n",
    "    return wood_neighborhoods\n",
    "\n",
    "wood = wood_to_neighborhoods()\n"
   ]
  },
  {
   "cell_type": "markdown",
   "metadata": {},
   "source": [
    "I then made a function that returns a dictionary of wooded areas and the neighborhood they are in. However, I noticed not all of the wooded areas were within the area of a neighborhood. So I created a filter function to remove any areas that did not have a neighborhood."
   ]
  },
  {
   "cell_type": "code",
   "execution_count": 6,
   "metadata": {},
   "outputs": [],
   "source": [
    "def filter_wood_without_neighborhoods(wooded_neighborhoods):\n",
    "    filtered_wood = {wood: neighborhoods for wood, neighborhoods in wooded_neighborhoods.items() if neighborhoods}\n",
    "    return filtered_wood\n",
    "filtered_wood = filter_wood_without_neighborhoods(wood)\n",
    "\n",
    "def neighborhood_frequency(neighborhoods):\n",
    "    neighborhood_counts = {}\n",
    "    for neighborhoods_list in neighborhoods.values():\n",
    "        for neighborhood in neighborhoods_list:\n",
    "            if neighborhood in neighborhood_counts:\n",
    "                neighborhood_counts[neighborhood] += 1\n",
    "            else:\n",
    "                neighborhood_counts[neighborhood] = 1\n",
    "    return neighborhood_counts\n",
    "\n",
    "wood_neighborhood_freq = neighborhood_frequency(filtered_wood)\n"
   ]
  },
  {
   "cell_type": "markdown",
   "metadata": {},
   "source": [
    "But to analyze the data of the neighborhoods with wooded areas, I had to tally up the frequency of wooded areas in each neighborhood. This gave me a dictionary with each neighborhood and the number of forests within them. I then started to use the data to make conclusions."
   ]
  },
  {
   "cell_type": "code",
   "execution_count": 7,
   "metadata": {},
   "outputs": [
    {
     "name": "stdout",
     "output_type": "stream",
     "text": [
      "The neighborhood with the most wooded areas is Squirrel Hill South with a count of 44.\n",
      "The average frequency of wooded areas per neighborhood is 9.48\n"
     ]
    }
   ],
   "source": [
    "def neighborhood_with_most_wooded_areas(neighborhood_freq):\n",
    "    max_neighborhood = max(neighborhood_freq, key=neighborhood_freq.get)\n",
    "    max_count = neighborhood_freq[max_neighborhood]\n",
    "    return max_neighborhood, max_count\n",
    "\n",
    "most_wooded_neighborhood, count = neighborhood_with_most_wooded_areas(wood_neighborhood_freq)\n",
    "print(f\"The neighborhood with the most wooded areas is {most_wooded_neighborhood} with a count of {count}.\")\n",
    "\n",
    "def average_neighborhood_frequency(neighborhood_freq):\n",
    "    total_wooded_areas = sum(neighborhood_freq.values())\n",
    "    num_neighborhoods = len(neighborhood_freq)\n",
    "    average_frequency = total_wooded_areas / num_neighborhoods\n",
    "    return average_frequency\n",
    "\n",
    "average_freq = average_neighborhood_frequency(wood_neighborhood_freq)\n",
    "print(f\"The average frequency of wooded areas per neighborhood is {average_freq:.2f}\")\n",
    "\n"
   ]
  },
  {
   "cell_type": "markdown",
   "metadata": {},
   "source": [
    "## Conclusion:"
   ]
  },
  {
   "cell_type": "markdown",
   "metadata": {},
   "source": [
    "I found the neighborhood with the most wooded areas to be Squirrel Hill, and the average of wooded areas in a neighborhood to be 9.48. Squirrel Hill nearly has five times the average. If I were a ghost hunter, I would begin my search for spirits in that Pittsburgh neighborhood"
   ]
  },
  {
   "cell_type": "code",
   "execution_count": 9,
   "metadata": {},
   "outputs": [
    {
     "data": {
      "image/png": "[encoded data removed]",
      "text/plain": [
       "<Figure size 864x432 with 1 Axes>"
      ]
     },
     "metadata": {
      "needs_background": "light"
     },
     "output_type": "display_data"
    },
    {
     "name": "stdout",
     "output_type": "stream",
     "text": [
      "Top 15 Neighborhoods with Wooded Areas:\n",
      "1. Squirrel Hill South: 44\n",
      "2. Sheraden: 33\n",
      "3. Westwood: 31\n",
      "4. Lincoln-Lemington-Belmar: 31\n",
      "5. Beechview: 26\n",
      "6. Hazelwood: 26\n",
      "7. South Side Slopes: 25\n",
      "8. Carrick: 25\n",
      "9. Crafton Heights: 22\n",
      "10. Perry South: 21\n",
      "11. Banksville: 21\n",
      "12. Brookline: 20\n",
      "13. Elliott: 17\n",
      "14. Mount Washington: 17\n",
      "15. Brighton Heights: 17\n",
      "\n",
      "Bottom 10 Neighborhoods with Wooded Areas:\n",
      "1. Lower Lawrenceville: 1\n",
      "2. East Liberty: 1\n",
      "3. Central Northside: 1\n",
      "4. Central Lawrenceville: 1\n",
      "5. East Allegheny: 1\n",
      "6. Bedford Dwellings: 1\n",
      "7. Allegheny West: 1\n",
      "8. Arlington Heights: 1\n",
      "9. Knoxville: 1\n",
      "10. South Side Flats: 1\n"
     ]
    }
   ],
   "source": [
    "def visualize_neighborhood_frequencies(neighborhood_freq, top_n=15):\n",
    "    sorted_neighborhoods = sorted(neighborhood_freq, key=neighborhood_freq.get, reverse=True)[:top_n]\n",
    "    frequencies = [neighborhood_freq[n] for n in sorted_neighborhoods]\n",
    "\n",
    "    plt.figure(figsize=(12, 6))\n",
    "    plt.bar(sorted_neighborhoods, frequencies, color='skyblue')\n",
    "    plt.xlabel('Neighborhoods')\n",
    "    plt.ylabel('Wooded Area Count')\n",
    "    plt.title('Top Neighborhoods with Wooded Areas')\n",
    "    plt.xticks(rotation=90, ha='center')  # Rotate x-axis labels more for better readability\n",
    "    plt.tight_layout()\n",
    "    plt.show()\n",
    "    \n",
    "    top_neighborhoods = {neighborhood: neighborhood_freq[neighborhood] for neighborhood in sorted_neighborhoods}\n",
    "    print(\"Top 15 Neighborhoods with Wooded Areas:\")\n",
    "    for idx, (neighborhood, count) in enumerate(top_neighborhoods.items(), 1):\n",
    "        print(f\"{idx}. {neighborhood}: {count}\")\n",
    "    \n",
    "    bottom_neighborhoods = sorted(neighborhood_freq, key=neighborhood_freq.get)[:10]\n",
    "    bottom_freq = {neighborhood: neighborhood_freq[neighborhood] for neighborhood in bottom_neighborhoods}\n",
    "    print(\"\\nBottom 10 Neighborhoods with Wooded Areas:\")\n",
    "    for idx, (neighborhood, count) in enumerate(bottom_freq.items(), 1):\n",
    "        print(f\"{idx}. {neighborhood}: {count}\")\n",
    "    \n",
    "visualize_neighborhood_frequencies(wood_neighborhood_freq)"
   ]
  }
 ],
 "metadata": {
  "kernelspec": {
   "display_name": "Python 3",
   "language": "python",
   "name": "python3"
  },
  "language_info": {
   "codemirror_mode": {
    "name": "ipython",
    "version": 3
   },
   "file_extension": ".py",
   "mimetype": "text/x-python",
   "name": "python",
   "nbconvert_exporter": "python",
   "pygments_lexer": "ipython3",
   "version": "3.8.3"
  }
 },
 "nbformat": 4,
 "nbformat_minor": 4
}
